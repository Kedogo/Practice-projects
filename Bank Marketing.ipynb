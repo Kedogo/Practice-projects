{
 "cells": [
  {
   "cell_type": "markdown",
   "id": "fd193a46",
   "metadata": {},
   "source": [
    "# Data Preprocessing"
   ]
  },
  {
   "cell_type": "code",
   "execution_count": null,
   "id": "9533fd3e",
   "metadata": {},
   "outputs": [],
   "source": [
    "import pandas as pd\n",
    "from sklearn.model_selection import train_test_split\n",
    "from sklearn.preprocessing import OneHotEncoder, LabelEncoder\n",
    "\n",
    "# Load the training and testing datasets\n",
    "train_url = \"https://raw.githubusercontent.com/dsrscientist/dataset5/main/termdeposit_train.csv\"\n",
    "test_url = \"https://raw.githubusercontent.com/dsrscientist/dataset5/main/termdeposit_test.csv\"\n",
    "\n",
    "train_data = pd.read_csv(train_url)\n",
    "test_data = pd.read_csv(test_url)\n",
    "\n",
    "# Display basic information about the datasets\n",
    "print(\"Training Data Info:\")\n",
    "print(train_data.info())\n",
    "print(\"\\nTesting Data Info:\")\n",
    "print(test_data.info())\n",
    "\n",
    "# Handle missing or null values (drop or impute based on your analysis)\n",
    "train_data.dropna(inplace=True)\n",
    "test_data.dropna(inplace=True)\n",
    "\n",
    "# Encode categorical variables (one-hot encoding)\n",
    "categorical_features = ['job', 'marital', 'education', 'default', 'housing', 'loan', 'contact', 'month', 'day_of_week', 'poutcome']\n",
    "\n",
    "encoder = OneHotEncoder(drop='first', sparse=False)\n",
    "train_encoded = pd.DataFrame(encoder.fit_transform(train_data[categorical_features]))\n",
    "train_encoded.columns = encoder.get_feature_names_out(categorical_features)\n",
    "\n",
    "test_encoded = pd.DataFrame(encoder.transform(test_data[categorical_features]))\n",
    "test_encoded.columns = encoder.get_feature_names_out(categorical_features)\n",
    "\n",
    "# Concatenate the encoded features with the original datasets\n",
    "train_data = pd.concat([train_data, train_encoded], axis=1)\n",
    "test_data = pd.concat([test_data, test_encoded], axis=1)\n",
    "\n",
    "# Drop the original categorical columns as they are no longer needed\n",
    "train_data.drop(categorical_features, axis=1, inplace=True)\n",
    "test_data.drop(categorical_features, axis=1, inplace=True)\n",
    "\n",
    "# Convert categorical target variable to numerical format\n",
    "label_encoder = LabelEncoder()\n",
    "train_data['subscribed'] = label_encoder.fit_transform(train_data['subscribed'])\n",
    "\n",
    "# Explore the data to gain insights (optional)\n",
    "# You can use functions like train_data.head(), train_data.describe(), train_data['subscribed'].value_counts(), etc.\n",
    "\n",
    "# Display the first few rows of the modified training dataset\n",
    "print(\"\\nModified Training Data:\")\n",
    "print(train_data.head())\n"
   ]
  },
  {
   "cell_type": "markdown",
   "id": "00aafba9",
   "metadata": {},
   "source": [
    "# Feature Engineering"
   ]
  },
  {
   "cell_type": "code",
   "execution_count": null,
   "id": "1c2b9655",
   "metadata": {},
   "outputs": [],
   "source": [
    "import pandas as pd\n",
    "from sklearn.preprocessing import StandardScaler\n",
    "\n",
    "# Assuming you have already loaded and preprocessed the data (as shown in the previous code)\n",
    "\n",
    "# Feature engineering: Extract relevant features\n",
    "# Example: Create a new feature 'contact_month_combined' by combining 'contact' and 'month'\n",
    "train_data['contact_month_combined'] = train_data['contact'] + '_' + train_data['month']\n",
    "test_data['contact_month_combined'] = test_data['contact'] + '_' + test_data['month']\n",
    "\n",
    "# Example: Create a binary feature 'recent_contact' based on the 'pdays' (number of days since last contact)\n",
    "train_data['recent_contact'] = (train_data['pdays'] >= 0).astype(int)\n",
    "test_data['recent_contact'] = (test_data['pdays'] >= 0).astype(int)\n",
    "\n",
    "# Example: Create a binary feature 'previous_contact' based on the 'previous' (number of contacts before this campaign)\n",
    "train_data['previous_contact'] = (train_data['previous'] > 0).astype(int)\n",
    "test_data['previous_contact'] = (test_data['previous'] > 0).astype(int)\n",
    "\n",
    "# Consider scaling numerical features\n",
    "numeric_features = ['age', 'duration', 'campaign', 'pdays', 'previous']\n",
    "\n",
    "scaler = StandardScaler()\n",
    "train_data[numeric_features] = scaler.fit_transform(train_data[numeric_features])\n",
    "test_data[numeric_features] = scaler.transform(test_data[numeric_features])\n",
    "\n",
    "# Display the first few rows of the modified training dataset\n",
    "print(\"\\nModified Training Data with Feature Engineering:\")\n",
    "print(train_data.head())\n"
   ]
  },
  {
   "cell_type": "markdown",
   "id": "432750bf",
   "metadata": {},
   "source": [
    "# Train-Test Split"
   ]
  },
  {
   "cell_type": "code",
   "execution_count": null,
   "id": "28567b18",
   "metadata": {},
   "outputs": [],
   "source": [
    "from sklearn.model_selection import train_test_split\n",
    "\n",
    "# Assuming you have already loaded, preprocessed, and engineered features in the training dataset\n",
    "\n",
    "# Define features (X) and target variable (y)\n",
    "X = train_data.drop('subscribed', axis=1)\n",
    "y = train_data['subscribed']\n",
    "\n",
    "# Split the data into training and validation sets (80% training, 20% validation)\n",
    "X_train, X_val, y_train, y_val = train_test_split(X, y, test_size=0.2, random_state=42)\n",
    "\n",
    "# Display the shapes of the resulting sets\n",
    "print(\"Shapes of the sets:\")\n",
    "print(\"X_train:\", X_train.shape)\n",
    "print(\"X_val:\", X_val.shape)\n",
    "print(\"y_train:\", y_train.shape)\n",
    "print(\"y_val:\", y_val.shape)\n"
   ]
  },
  {
   "cell_type": "markdown",
   "id": "91dfae09",
   "metadata": {},
   "source": [
    "# Model Selection"
   ]
  },
  {
   "cell_type": "code",
   "execution_count": null,
   "id": "0bc5f95d",
   "metadata": {},
   "outputs": [],
   "source": [
    "from sklearn.ensemble import RandomForestClassifier\n",
    "\n",
    "# Assuming you have already performed the train-test split and feature engineering\n",
    "\n",
    "# Define the model\n",
    "model = RandomForestClassifier(random_state=42)\n",
    "\n",
    "# Train the model\n",
    "model.fit(X_train, y_train)\n",
    "\n",
    "# Evaluate the model on the validation set\n",
    "y_val_pred = model.predict(X_val)\n",
    "\n",
    "# Display the evaluation metrics (e.g., accuracy, classification report)\n",
    "from sklearn.metrics import accuracy_score, classification_report\n",
    "\n",
    "accuracy = accuracy_score(y_val, y_val_pred)\n",
    "print(f'Accuracy: {accuracy}')\n",
    "print(classification_report(y_val, y_val_pred))\n"
   ]
  },
  {
   "cell_type": "markdown",
   "id": "3f27b4c7",
   "metadata": {},
   "source": [
    "# Model Training"
   ]
  },
  {
   "cell_type": "code",
   "execution_count": null,
   "id": "fff69c70",
   "metadata": {},
   "outputs": [],
   "source": [
    "from sklearn.ensemble import RandomForestClassifier\n",
    "from sklearn.metrics import accuracy_score, classification_report\n",
    "\n",
    "# Assuming you have already performed the train-test split and feature engineering\n",
    "\n",
    "# Define the Random Forest model\n",
    "model = RandomForestClassifier(random_state=42)\n",
    "\n",
    "# Train the model\n",
    "model.fit(X_train, y_train)\n",
    "\n",
    "# Make predictions on the validation set\n",
    "y_val_pred = model.predict(X_val)\n",
    "\n",
    "# Evaluate the model on the validation set\n",
    "accuracy = accuracy_score(y_val, y_val_pred)\n",
    "print(f'Accuracy on the validation set: {accuracy:.4f}')\n",
    "\n",
    "# Display the classification report\n",
    "print(\"\\nClassification Report:\")\n",
    "print(classification_report(y_val, y_val_pred))\n"
   ]
  },
  {
   "cell_type": "markdown",
   "id": "ff646f4e",
   "metadata": {},
   "source": [
    "# Model Evaluation"
   ]
  },
  {
   "cell_type": "code",
   "execution_count": null,
   "id": "f5b92d9c",
   "metadata": {},
   "outputs": [],
   "source": [
    "from sklearn.metrics import accuracy_score, precision_score, recall_score, f1_score, roc_auc_score, roc_curve\n",
    "import matplotlib.pyplot as plt\n",
    "\n",
    "# Assuming you have already trained the Random Forest model and made predictions on the validation set\n",
    "\n",
    "# Evaluate the model on the validation set\n",
    "y_val_pred = model.predict(X_val)\n",
    "\n",
    "# Calculate evaluation metrics\n",
    "accuracy = accuracy_score(y_val, y_val_pred)\n",
    "precision = precision_score(y_val, y_val_pred)\n",
    "recall = recall_score(y_val, y_val_pred)\n",
    "f1 = f1_score(y_val, y_val_pred)\n",
    "roc_auc = roc_auc_score(y_val, model.predict_proba(X_val)[:, 1])\n",
    "\n",
    "# Display the metrics\n",
    "print(f'Accuracy: {accuracy:.4f}')\n",
    "print(f'Precision: {precision:.4f}')\n",
    "print(f'Recall: {recall:.4f}')\n",
    "print(f'F1 Score: {f1:.4f}')\n",
    "print(f'ROC-AUC Score: {roc_auc:.4f}')\n",
    "\n",
    "# Plot ROC curve\n",
    "fpr, tpr, _ = roc_curve(y_val, model.predict_proba(X_val)[:, 1])\n",
    "plt.figure(figsize=(8, 6))\n",
    "plt.plot(fpr, tpr, color='darkorange', lw=2, label='ROC curve')\n",
    "plt.plot([0, 1], [0, 1], color='navy', lw=2, linestyle='--')\n",
    "plt.xlabel('False Positive Rate')\n",
    "plt.ylabel('True Positive Rate')\n",
    "plt.title('Receiver Operating Characteristic (ROC) Curve')\n",
    "plt.legend(loc='lower right')\n",
    "plt.show()\n"
   ]
  },
  {
   "cell_type": "markdown",
   "id": "52d8f28f",
   "metadata": {},
   "source": [
    "# Prediction on Test Data"
   ]
  },
  {
   "cell_type": "code",
   "execution_count": null,
   "id": "0f32adec",
   "metadata": {},
   "outputs": [],
   "source": [
    "# Assuming you have already loaded, preprocessed, and engineered features in the test dataset\n",
    "\n",
    "# Preprocess the test data using the same steps as the training data\n",
    "# (e.g., handle missing values, one-hot encode categorical variables, scale numerical features)\n",
    "\n",
    "# Example: Assuming 'test_data' is the preprocessed test dataset\n",
    "# Note: Make sure to use the same transformations applied to the training data\n",
    "\n",
    "# Encode categorical variables (one-hot encoding)\n",
    "test_encoded = pd.DataFrame(encoder.transform(test_data[categorical_features]))\n",
    "test_encoded.columns = encoder.get_feature_names_out(categorical_features)\n",
    "\n",
    "# Concatenate the encoded features with the original test dataset\n",
    "test_data = pd.concat([test_data, test_encoded], axis=1)\n",
    "\n",
    "# Drop the original categorical columns as they are no longer needed\n",
    "test_data.drop(categorical_features, axis=1, inplace=True)\n",
    "\n",
    "# Scale numerical features using the same scaler fitted on the training data\n",
    "test_data[numeric_features] = scaler.transform(test_data[numeric_features])\n",
    "\n",
    "# Display the first few rows of the modified test dataset\n",
    "print(\"\\nModified Test Data:\")\n",
    "print(test_data.head())\n",
    "\n",
    "# Use the trained model to predict the target variable for the test set\n",
    "test_predictions = best_rf_model.predict(test_data)\n",
    "\n",
    "# You can further process test_predictions as needed (e.g., converting to the required format)\n",
    "\n",
    "# Display the predicted values\n",
    "print(\"\\nPredicted Values on Test Data:\")\n",
    "print(test_predictions)\n"
   ]
  }
 ],
 "metadata": {
  "kernelspec": {
   "display_name": "Python 3 (ipykernel)",
   "language": "python",
   "name": "python3"
  },
  "language_info": {
   "codemirror_mode": {
    "name": "ipython",
    "version": 3
   },
   "file_extension": ".py",
   "mimetype": "text/x-python",
   "name": "python",
   "nbconvert_exporter": "python",
   "pygments_lexer": "ipython3",
   "version": "3.10.9"
  }
 },
 "nbformat": 4,
 "nbformat_minor": 5
}
