{
 "cells": [
  {
   "cell_type": "code",
   "execution_count": null,
   "id": "e4b6808d",
   "metadata": {},
   "outputs": [],
   "source": [
    "import pandas as pd\n",
    "import numpy as np\n",
    "import matplotlib.pyplot as plt\n",
    "import seaborn as sns\n",
    "from sklearn.model_selection import train_test_split\n",
    "from sklearn.preprocessing import StandardScaler, LabelEncoder\n",
    "from sklearn.metrics import accuracy_score, classification_report, mean_squared_error\n",
    "from sklearn.model_selection import cross_val_score\n",
    "from sklearn.ensemble import RandomForestClassifier, RandomForestRegressor\n",
    "\n",
    "# Load the dataset\n",
    "url = \"https://raw.githubusercontent.com/dsrscientist/dataset3/main/weatherAUS.csv\"\n",
    "df = pd.read_csv(url)\n"
   ]
  },
  {
   "cell_type": "code",
   "execution_count": null,
   "id": "0e053481",
   "metadata": {},
   "outputs": [],
   "source": [
    "# Explore the dataset\n",
    "print(df.info())\n",
    "print(df.describe())\n",
    "\n",
    "# Handle missing values\n",
    "df.dropna(inplace=True)\n",
    "\n",
    "# Encode categorical variables\n",
    "label_encoder = LabelEncoder()\n",
    "df['Location'] = label_encoder.fit_transform(df['Location'])\n",
    "df['WindGustDir'] = label_encoder.fit_transform(df['WindGustDir'])\n",
    "df['WindDir9am'] = label_encoder.fit_transform(df['WindDir9am'])\n",
    "df['WindDir3pm'] = label_encoder.fit_transform(df['WindDir3pm'])\n",
    "df['RainToday'] = label_encoder.fit_transform(df['RainToday'])\n",
    "df['RainTomorrow'] = label_encoder.fit_transform(df['RainTomorrow'])\n"
   ]
  },
  {
   "cell_type": "code",
   "execution_count": null,
   "id": "cf86b478",
   "metadata": {},
   "outputs": [],
   "source": [
    "# Select relevant features\n",
    "features = ['Location', 'MinTemp', 'MaxTemp', 'Rainfall', 'Evaporation', 'Sunshine', 'WindGustDir',\n",
    "            'WindGustSpeed', 'WindDir9am', 'WindDir3pm', 'WindSpeed9am', 'WindSpeed3pm', 'Humidity9am',\n",
    "            'Humidity3pm', 'Pressure9am', 'Pressure3pm', 'Cloud9am', 'Cloud3pm', 'Temp9am', 'Temp3pm', 'RainToday']\n",
    "target_classification = 'RainTomorrow'\n",
    "target_regression = 'Rainfall'\n",
    "\n",
    "X_classification = df[features]\n",
    "y_classification = df[target_classification]\n",
    "X_regression = df[features]\n",
    "y_regression = df[target_regression]\n"
   ]
  },
  {
   "cell_type": "code",
   "execution_count": null,
   "id": "608bcc27",
   "metadata": {},
   "outputs": [],
   "source": [
    "X_train_clf, X_test_clf, y_train_clf, y_test_clf = train_test_split(X_classification, y_classification, test_size=0.2, random_state=42)\n",
    "X_train_reg, X_test_reg, y_train_reg, y_test_reg = train_test_split(X_regression, y_regression, test_size=0.2, random_state=42)\n"
   ]
  },
  {
   "cell_type": "code",
   "execution_count": null,
   "id": "c52584d7",
   "metadata": {},
   "outputs": [],
   "source": [
    "clf_model = RandomForestClassifier()\n",
    "clf_model.fit(X_train_clf, y_train_clf)\n",
    "\n",
    "# Predictions\n",
    "y_pred_clf = clf_model.predict(X_test_clf)\n",
    "\n",
    "# Evaluation\n",
    "print(\"Classification Accuracy:\", accuracy_score(y_test_clf, y_pred_clf))\n",
    "print(\"Classification Report:\\n\", classification_report(y_test_clf, y_pred_clf))\n"
   ]
  },
  {
   "cell_type": "code",
   "execution_count": null,
   "id": "25211692",
   "metadata": {},
   "outputs": [],
   "source": [
    "reg_model = RandomForestRegressor()\n",
    "reg_model.fit(X_train_reg, y_train_reg)\n",
    "\n",
    "# Predictions\n",
    "y_pred_reg = reg_model.predict(X_test_reg)\n",
    "\n",
    "# Evaluation\n",
    "rmse = np.sqrt(mean_squared_error(y_test_reg, y_pred_reg))\n",
    "print(\"Root Mean Squared Error (Regression):\", rmse)\n"
   ]
  },
  {
   "cell_type": "code",
   "execution_count": null,
   "id": "a282f29e",
   "metadata": {},
   "outputs": [],
   "source": []
  }
 ],
 "metadata": {
  "kernelspec": {
   "display_name": "Python 3 (ipykernel)",
   "language": "python",
   "name": "python3"
  },
  "language_info": {
   "codemirror_mode": {
    "name": "ipython",
    "version": 3
   },
   "file_extension": ".py",
   "mimetype": "text/x-python",
   "name": "python",
   "nbconvert_exporter": "python",
   "pygments_lexer": "ipython3",
   "version": "3.10.9"
  }
 },
 "nbformat": 4,
 "nbformat_minor": 5
}
