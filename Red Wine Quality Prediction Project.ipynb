{
 "cells": [
  {
   "cell_type": "markdown",
   "id": "8e0ed680",
   "metadata": {},
   "source": [
    "# IMPORTING REQUIRED PACKAGES"
   ]
  },
  {
   "cell_type": "code",
   "execution_count": null,
   "id": "c5b25be3",
   "metadata": {},
   "outputs": [],
   "source": [
    "import pandas as pd\n",
    "import numpy as np\n",
    "import matplotlib.pyplot as plt\n",
    "import seaborn as sns\n",
    "from sklearn.model_selection import train_test_split,GridSearchCV, CROSS_val_score\n",
    "from sklearn.preprocessing import StandardScaler\n",
    "from sklearn.ensemble import RandomForestClassifier\n",
    "from sklearn.svm import SVC\n",
    "from sklearn.metrics import accuracy_score, classification_report, confusion_matrix, roc_curve, auc"
   ]
  },
  {
   "cell_type": "markdown",
   "id": "498d420c",
   "metadata": {},
   "source": [
    "# Load the dataset"
   ]
  },
  {
   "cell_type": "code",
   "execution_count": null,
   "id": "be666b28",
   "metadata": {},
   "outputs": [],
   "source": [
    "wine_df pd.read_csv(\"D:\\\\CWS\\\\Wine Quality\\\\red-wine-quality.csv\")\n",
    "print(\"Dataset Shape: \", wine_df.shape )\n",
    "#CHECKING DATA DISTRIBUTION\n",
    "wine_df.head()"
   ]
  },
  {
   "cell_type": "markdown",
   "id": "bbea307d",
   "metadata": {},
   "source": [
    "# Explore the dataset"
   ]
  },
  {
   "cell_type": "code",
   "execution_count": null,
   "id": "14830908",
   "metadata": {},
   "outputs": [],
   "source": [
    "print(data.head())"
   ]
  },
  {
   "cell_type": "markdown",
   "id": "88c3289d",
   "metadata": {},
   "source": [
    "# Check for missing values"
   ]
  },
  {
   "cell_type": "code",
   "execution_count": null,
   "id": "13bff4df",
   "metadata": {},
   "outputs": [],
   "source": [
    "print(data.isnull().sum())"
   ]
  },
  {
   "cell_type": "markdown",
   "id": "92da1163",
   "metadata": {},
   "source": [
    "# Explore the distribution of wine quality"
   ]
  },
  {
   "cell_type": "code",
   "execution_count": null,
   "id": "fffc04e9",
   "metadata": {},
   "outputs": [],
   "source": [
    "sns.countplot(x='quality', data=data)"
   ]
  },
  {
   "cell_type": "markdown",
   "id": "bfc77a1d",
   "metadata": {},
   "source": [
    "# Define a binary classification for 'good' and 'not good'"
   ]
  },
  {
   "cell_type": "code",
   "execution_count": null,
   "id": "4cb65c8a",
   "metadata": {},
   "outputs": [],
   "source": [
    "data['good_quality'] = np.where(data['quality'] >= 7, 1, 0)"
   ]
  },
  {
   "cell_type": "markdown",
   "id": "049d7753",
   "metadata": {},
   "source": [
    "# Separate features and target variable"
   ]
  },
  {
   "cell_type": "code",
   "execution_count": null,
   "id": "2c8c4a8a",
   "metadata": {},
   "outputs": [],
   "source": [
    "X = data.drop(['quality', 'good_quality'], axis=1)\n",
    "y = data['good_quality']"
   ]
  },
  {
   "cell_type": "markdown",
   "id": "4d8a6f16",
   "metadata": {},
   "source": [
    "# Split the data into training and testing sets"
   ]
  },
  {
   "cell_type": "code",
   "execution_count": null,
   "id": "dae4f684",
   "metadata": {},
   "outputs": [],
   "source": [
    "X_train, X_test, y_train, y_test = train_test_split(X, y, test_size=0.2, random_state=42)"
   ]
  },
  {
   "cell_type": "markdown",
   "id": "efa334a3",
   "metadata": {},
   "source": [
    "# Standardize the features"
   ]
  },
  {
   "cell_type": "code",
   "execution_count": null,
   "id": "ad20c47c",
   "metadata": {},
   "outputs": [],
   "source": [
    "scaler = StandardScaler()\n",
    "X_train = scaler.fit_transform(X_train)\n",
    "X_test = scaler.transform(X_test)"
   ]
  },
  {
   "cell_type": "markdown",
   "id": "41951aed",
   "metadata": {},
   "source": [
    "# Build a Random Forest Classifier"
   ]
  },
  {
   "cell_type": "code",
   "execution_count": null,
   "id": "ad544c36",
   "metadata": {},
   "outputs": [],
   "source": [
    "model = RandomForestClassifier(random_state=42)\n",
    "model.fit(X_train, y_train)"
   ]
  },
  {
   "cell_type": "markdown",
   "id": "e84cd9d4",
   "metadata": {},
   "source": [
    "# Make predictions"
   ]
  },
  {
   "cell_type": "code",
   "execution_count": null,
   "id": "8ede9dd3",
   "metadata": {},
   "outputs": [],
   "source": [
    "y_pred = model.predict(X_test)\n"
   ]
  },
  {
   "cell_type": "markdown",
   "id": "b003ef58",
   "metadata": {},
   "source": [
    "# Evaluate the model"
   ]
  },
  {
   "cell_type": "code",
   "execution_count": null,
   "id": "5c0368d4",
   "metadata": {},
   "outputs": [],
   "source": [
    "accuracy = accuracy_score(y_test, y_pred)\n",
    "print(f\"Accuracy: {accuracy:.2f}\")"
   ]
  },
  {
   "cell_type": "markdown",
   "id": "95504c1d",
   "metadata": {},
   "source": [
    "# Classification Report"
   ]
  },
  {
   "cell_type": "code",
   "execution_count": null,
   "id": "33be8f5e",
   "metadata": {},
   "outputs": [],
   "source": [
    "print(\"Classification Report:\")\n",
    "print(classification_report(y_test, y_pred))"
   ]
  },
  {
   "cell_type": "markdown",
   "id": "925bb2fb",
   "metadata": {},
   "source": [
    "# Confusion Matrix"
   ]
  },
  {
   "cell_type": "code",
   "execution_count": null,
   "id": "00dd93ee",
   "metadata": {},
   "outputs": [],
   "source": [
    "print(\"Confusion Matrix:\")\n",
    "print(confusion_matrix(y_test, y_pred))"
   ]
  },
  {
   "cell_type": "markdown",
   "id": "2dc3256b",
   "metadata": {},
   "source": [
    "# ROC Curve and AUC"
   ]
  },
  {
   "cell_type": "code",
   "execution_count": null,
   "id": "8d26d796",
   "metadata": {},
   "outputs": [],
   "source": [
    "fpr, tpr, _ = roc_curve(y_test, model.predict_proba(X_test)[:, 1])\n",
    "roc_auc = auc(fpr, tpr)"
   ]
  },
  {
   "cell_type": "markdown",
   "id": "1adabb98",
   "metadata": {},
   "source": [
    "# Plot ROC Curve"
   ]
  },
  {
   "cell_type": "code",
   "execution_count": null,
   "id": "e250be84",
   "metadata": {},
   "outputs": [],
   "source": [
    "plt.figure(figsize=(8, 6))\n",
    "plt.plot(fpr, tpr, color='darkorange', lw=2, label='ROC curve (area = %0.2f)' % roc_auc)\n",
    "plt.plot([0, 1], [0, 1], color='navy', lw=2, linestyle='--')\n",
    "plt.xlabel('False Positive Rate')\n",
    "plt.ylabel('True Positive Rate')\n",
    "plt.title('Receiver Operating Characteristic (ROC) Curve')\n",
    "plt.legend(loc=\"lower right\")\n",
    "plt.show()"
   ]
  }
 ],
 "metadata": {
  "kernelspec": {
   "display_name": "Python 3 (ipykernel)",
   "language": "python",
   "name": "python3"
  },
  "language_info": {
   "codemirror_mode": {
    "name": "ipython",
    "version": 3
   },
   "file_extension": ".py",
   "mimetype": "text/x-python",
   "name": "python",
   "nbconvert_exporter": "python",
   "pygments_lexer": "ipython3",
   "version": "3.10.9"
  }
 },
 "nbformat": 4,
 "nbformat_minor": 5
}
