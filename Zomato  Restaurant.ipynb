{
 "cells": [
  {
   "cell_type": "code",
   "execution_count": null,
   "id": "45b1883e",
   "metadata": {},
   "outputs": [],
   "source": [
    "import pandas as pd\n",
    "from sklearn.model_selection import train_test_split\n",
    "from sklearn.linear_model import LinearRegression\n",
    "from sklearn.metrics import mean_squared_error, r2_score\n"
   ]
  },
  {
   "cell_type": "code",
   "execution_count": null,
   "id": "cd93b78c",
   "metadata": {},
   "outputs": [],
   "source": [
    "# Load Zomato dataset\n",
    "zomato_df = pd.read_csv(\"https://github.com/dsrscientist/dataset4/raw/main/zomato.csv\")\n",
    "\n",
    "# Load Country Code dataset\n",
    "country_code_df = pd.read_excel(\"https://github.com/dsrscientist/dataset4/raw/main/Country-Code.xlsx\")\n"
   ]
  },
  {
   "cell_type": "code",
   "execution_count": null,
   "id": "92abc6b3",
   "metadata": {},
   "outputs": [],
   "source": [
    "# Merge datasets using Country Code\n",
    "merged_df = pd.merge(zomato_df, country_code_df, how=\"left\", left_on=\"Country Code\", right_on=\"Country code\")\n",
    "\n",
    "# Drop redundant columns\n",
    "merged_df.drop(columns=[\"Country code\"], inplace=True)\n"
   ]
  },
  {
   "cell_type": "code",
   "execution_count": null,
   "id": "e667c9b5",
   "metadata": {},
   "outputs": [],
   "source": [
    "# Explore the merged dataset\n",
    "print(merged_df.head())\n",
    "\n",
    "# Check for missing values\n",
    "print(merged_df.isnull().sum())\n",
    "\n",
    "# Handle missing values if needed\n",
    "# ...\n",
    "\n",
    "# Encode categorical variables if needed\n",
    "# ...\n"
   ]
  },
  {
   "cell_type": "code",
   "execution_count": null,
   "id": "38d1f47c",
   "metadata": {},
   "outputs": [],
   "source": [
    "# Choose features and target variables\n",
    "X = merged_df[['Aggregate rating', 'Votes', 'Longitude', 'Latitude']]\n",
    "y_avg_cost_for_two = merged_df['Average Cost for two']\n",
    "y_price_range = merged_df['Price range']\n",
    "\n",
    "# Split the data into training and testing sets\n",
    "X_train, X_test, y_train_avg_cost, y_test_avg_cost, y_train_price_range, y_test_price_range = train_test_split(\n",
    "    X, y_avg_cost_for_two, y_price_range, test_size=0.2, random_state=42\n",
    ")\n"
   ]
  },
  {
   "cell_type": "code",
   "execution_count": null,
   "id": "9e2641f0",
   "metadata": {},
   "outputs": [],
   "source": [
    "# Train linear regression models\n",
    "model_avg_cost = LinearRegression()\n",
    "model_price_range = LinearRegression()\n",
    "\n",
    "model_avg_cost.fit(X_train, y_train_avg_cost)\n",
    "model_price_range.fit(X_train, y_train_price_range)\n",
    "\n",
    "# Make predictions\n",
    "y_pred_avg_cost = model_avg_cost.predict(X_test)\n",
    "y_pred_price_range = model_price_range.predict(X_test)\n",
    "\n",
    "# Evaluate the models\n",
    "mse_avg_cost = mean_squared_error(y_test_avg_cost, y_pred_avg_cost)\n",
    "r2_avg_cost = r2_score(y_test_avg_cost, y_pred_avg_cost)\n",
    "\n",
    "mse_price_range = mean_squared_error(y_test_price_range, y_pred_price_range)\n",
    "r2_price_range = r2_score(y_test_price_range, y_pred_price_range)\n",
    "\n",
    "print(f\"Mean Squared Error (Average Cost for Two): {mse_avg_cost}\")\n",
    "print(f\"R^2 Score (Average Cost for Two): {r2_avg_cost}\")\n",
    "print(f\"Mean Squared Error (Price Range): {mse_price_range}\")\n",
    "print(f\"R^2 Score (Price Range): {r2_price_range}\")\n"
   ]
  }
 ],
 "metadata": {
  "kernelspec": {
   "display_name": "Python 3 (ipykernel)",
   "language": "python",
   "name": "python3"
  },
  "language_info": {
   "codemirror_mode": {
    "name": "ipython",
    "version": 3
   },
   "file_extension": ".py",
   "mimetype": "text/x-python",
   "name": "python",
   "nbconvert_exporter": "python",
   "pygments_lexer": "ipython3",
   "version": "3.10.9"
  }
 },
 "nbformat": 4,
 "nbformat_minor": 5
}
