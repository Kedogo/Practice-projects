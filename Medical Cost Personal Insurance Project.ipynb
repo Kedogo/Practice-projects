{
 "cells": [
  {
   "cell_type": "markdown",
   "id": "27588ee7",
   "metadata": {},
   "source": [
    "# Data Loading"
   ]
  },
  {
   "cell_type": "code",
   "execution_count": null,
   "id": "1045b969",
   "metadata": {},
   "outputs": [],
   "source": [
    "# Import necessary libraries\n",
    "import pandas as pd\n",
    "\n",
    "# Load the dataset from the provided link\n",
    "dataset_url = \"https://github.com/dsrscientist/dataset4/raw/main/medical_cost_insurance.csv\"\n",
    "insurance_data = pd.read_csv(dataset_url)\n",
    "\n",
    "# Display the first few rows of the dataset to understand its structure\n",
    "print(insurance_data.head())\n",
    "\n",
    "# Get information about the dataset, including data types and missing values\n",
    "print(insurance_data.info())\n",
    "\n",
    "# Summary statistics for numerical columns\n",
    "print(insurance_data.describe())\n",
    "\n",
    "# Check for missing values\n",
    "print(insurance_data.isnull().sum())\n"
   ]
  },
  {
   "cell_type": "markdown",
   "id": "29447c29",
   "metadata": {},
   "source": [
    "# Exploratory Data Analysis (EDA)"
   ]
  },
  {
   "cell_type": "code",
   "execution_count": null,
   "id": "01660935",
   "metadata": {},
   "outputs": [],
   "source": [
    "import matplotlib.pyplot as plt\n",
    "import seaborn as sns\n",
    "\n",
    "# Set the style for plots\n",
    "sns.set(style=\"whitegrid\")\n",
    "\n",
    "# Distribution of charges\n",
    "plt.figure(figsize=(12, 6))\n",
    "sns.histplot(insurance_data['charges'], bins=30, kde=True, color='skyblue')\n",
    "plt.title('Distribution of Insurance Charges')\n",
    "plt.xlabel('Charges')\n",
    "plt.ylabel('Frequency')\n",
    "plt.show()\n",
    "\n",
    "# Boxplot of charges by smoker status\n",
    "plt.figure(figsize=(12, 6))\n",
    "sns.boxplot(x='smoker', y='charges', data=insurance_data, palette='coolwarm')\n",
    "plt.title('Insurance Charges by Smoker Status')\n",
    "plt.xlabel('Smoker')\n",
    "plt.ylabel('Charges')\n",
    "plt.show()\n",
    "\n",
    "# Pairplot to visualize relationships between numerical features\n",
    "sns.pairplot(insurance_data[['age', 'bmi', 'children', 'charges']])\n",
    "plt.suptitle('Pairplot of Numerical Features', y=1.02)\n",
    "plt.show()\n",
    "\n",
    "# Correlation heatmap\n",
    "plt.figure(figsize=(10, 8))\n",
    "sns.heatmap(insurance_data.corr(), annot=True, cmap='coolwarm', linewidths=.5)\n",
    "plt.title('Correlation Heatmap')\n",
    "plt.show()\n"
   ]
  },
  {
   "cell_type": "markdown",
   "id": "576e477b",
   "metadata": {},
   "source": [
    "# Data Preprocessing"
   ]
  },
  {
   "cell_type": "code",
   "execution_count": null,
   "id": "40058fc2",
   "metadata": {},
   "outputs": [],
   "source": [
    "# Handle missing values (if any)\n",
    "# Check for missing values\n",
    "print(\"Missing values before handling:\")\n",
    "print(insurance_data.isnull().sum())\n",
    "\n",
    "# If there are missing values, you can choose to fill them with mean, median, or other strategies\n",
    "# For example, filling missing values in 'bmi' with the mean\n",
    "insurance_data['bmi'].fillna(insurance_data['bmi'].mean(), inplace=True)\n",
    "\n",
    "# Verify that missing values have been handled\n",
    "print(\"\\nMissing values after handling:\")\n",
    "print(insurance_data.isnull().sum())\n",
    "\n",
    "# Encode categorical variables using one-hot encoding\n",
    "insurance_data = pd.get_dummies(insurance_data, columns=['sex', 'smoker', 'region'], drop_first=True)\n",
    "\n",
    "# Scale numerical features (if necessary)\n",
    "from sklearn.preprocessing import StandardScaler\n",
    "\n",
    "# Select numerical features to scale\n",
    "numerical_features = ['age', 'bmi', 'children']\n",
    "\n",
    "# Create a StandardScaler object\n",
    "scaler = StandardScaler()\n",
    "\n",
    "# Fit and transform the selected numerical features\n",
    "insurance_data[numerical_features] = scaler.fit_transform(insurance_data[numerical_features])\n",
    "\n",
    "# Display the preprocessed dataset\n",
    "print(\"\\nPreprocessed dataset:\")\n",
    "print(insurance_data.head())\n"
   ]
  },
  {
   "cell_type": "markdown",
   "id": "aba1d310",
   "metadata": {},
   "source": [
    "# Feature Engineering"
   ]
  },
  {
   "cell_type": "code",
   "execution_count": null,
   "id": "6a4f9145",
   "metadata": {},
   "outputs": [],
   "source": [
    "# Feature Engineering: Create new features or transformations\n",
    "\n",
    "# Interaction term between age and smoker status\n",
    "insurance_data['age_smoker_interaction'] = insurance_data['age'] * insurance_data['smoker_yes']\n",
    "\n",
    "# Square of BMI\n",
    "insurance_data['bmi_squared'] = insurance_data['bmi']**2\n",
    "\n",
    "# Log-transform of charges (if appropriate, considering it's a regression problem)\n",
    "insurance_data['log_charges'] = np.log1p(insurance_data['charges'])\n",
    "\n",
    "# Display the dataset after feature engineering\n",
    "print(\"Dataset after feature engineering:\")\n",
    "print(insurance_data.head())\n"
   ]
  },
  {
   "cell_type": "markdown",
   "id": "3c1fbf76",
   "metadata": {},
   "source": [
    "# Data Splitting"
   ]
  },
  {
   "cell_type": "code",
   "execution_count": null,
   "id": "606501c3",
   "metadata": {},
   "outputs": [],
   "source": [
    "from sklearn.model_selection import train_test_split\n",
    "\n",
    "# Define features (X) and target variable (y)\n",
    "X = insurance_data.drop(['charges'], axis=1)\n",
    "y = insurance_data['charges']\n",
    "\n",
    "# Split the data into training and testing sets (80% training, 20% testing)\n",
    "X_train, X_test, y_train, y_test = train_test_split(X, y, test_size=0.2, random_state=42)\n",
    "\n",
    "# Display the shapes of the training and testing sets\n",
    "print(\"Shape of X_train:\", X_train.shape)\n",
    "print(\"Shape of X_test:\", X_test.shape)\n",
    "print(\"Shape of y_train:\", y_train.shape)\n",
    "print(\"Shape of y_test:\", y_test.shape)\n"
   ]
  },
  {
   "cell_type": "markdown",
   "id": "f57071e5",
   "metadata": {},
   "source": [
    "# Model Selection"
   ]
  },
  {
   "cell_type": "code",
   "execution_count": null,
   "id": "b5a3faaf",
   "metadata": {},
   "outputs": [],
   "source": [
    "from sklearn.linear_model import LinearRegression\n",
    "from sklearn.tree import DecisionTreeRegressor\n",
    "from sklearn.ensemble import RandomForestRegressor\n",
    "from sklearn.metrics import mean_absolute_error, mean_squared_error, r2_score\n",
    "\n",
    "# Linear Regression\n",
    "linear_reg_model = LinearRegression()\n",
    "linear_reg_model.fit(X_train, y_train)\n",
    "linear_reg_predictions = linear_reg_model.predict(X_test)\n",
    "\n",
    "# Decision Tree\n",
    "decision_tree_model = DecisionTreeRegressor(random_state=42)\n",
    "decision_tree_model.fit(X_train, y_train)\n",
    "decision_tree_predictions = decision_tree_model.predict(X_test)\n",
    "\n",
    "# Random Forest\n",
    "random_forest_model = RandomForestRegressor(random_state=42)\n",
    "random_forest_model.fit(X_train, y_train)\n",
    "random_forest_predictions = random_forest_model.predict(X_test)\n",
    "\n",
    "# Evaluate models\n",
    "def evaluate_model(predictions, y_true):\n",
    "    mae = mean_absolute_error(y_true, predictions)\n",
    "    mse = mean_squared_error(y_true, predictions)\n",
    "    r2 = r2_score(y_true, predictions)\n",
    "    print(f'Mean Absolute Error: {mae:.2f}')\n",
    "    print(f'Mean Squared Error: {mse:.2f}')\n",
    "    print(f'R-squared: {r2:.2f}')\n",
    "\n",
    "print(\"Linear Regression Model:\")\n",
    "evaluate_model(linear_reg_predictions, y_test)\n",
    "print(\"\\nDecision Tree Model:\")\n",
    "evaluate_model(decision_tree_predictions, y_test)\n",
    "print(\"\\nRandom Forest Model:\")\n",
    "evaluate_model(random_forest_predictions, y_test)\n"
   ]
  },
  {
   "cell_type": "markdown",
   "id": "17eeb657",
   "metadata": {},
   "source": [
    "# Model Training"
   ]
  },
  {
   "cell_type": "code",
   "execution_count": null,
   "id": "db10a667",
   "metadata": {},
   "outputs": [],
   "source": [
    "from sklearn.linear_model import LinearRegression\n",
    "from sklearn.tree import DecisionTreeRegressor\n",
    "from sklearn.ensemble import RandomForestRegressor\n",
    "\n",
    "# Linear Regression\n",
    "linear_reg_model = LinearRegression()\n",
    "linear_reg_model.fit(X_train, y_train)\n",
    "\n",
    "# Decision Tree\n",
    "decision_tree_model = DecisionTreeRegressor(random_state=42)\n",
    "decision_tree_model.fit(X_train, y_train)\n",
    "\n",
    "# Random Forest\n",
    "random_forest_model = RandomForestRegressor(random_state=42)\n",
    "random_forest_model.fit(X_train, y_train)\n"
   ]
  },
  {
   "cell_type": "markdown",
   "id": "5357cad7",
   "metadata": {},
   "source": [
    "# Model Evaluation"
   ]
  },
  {
   "cell_type": "code",
   "execution_count": null,
   "id": "c2568c96",
   "metadata": {},
   "outputs": [],
   "source": [
    "from sklearn.metrics import mean_absolute_error, mean_squared_error, r2_score\n",
    "\n",
    "# Function to evaluate a model\n",
    "def evaluate_model(model, X_test, y_test):\n",
    "    predictions = model.predict(X_test)\n",
    "    mae = mean_absolute_error(y_test, predictions)\n",
    "    mse = mean_squared_error(y_test, predictions)\n",
    "    r2 = r2_score(y_test, predictions)\n",
    "    \n",
    "    print(f'Mean Absolute Error: {mae:.2f}')\n",
    "    print(f'Mean Squared Error: {mse:.2f}')\n",
    "    print(f'R-squared: {r2:.2f}')\n",
    "\n",
    "# Evaluate Linear Regression Model\n",
    "print(\"Linear Regression Model Evaluation:\")\n",
    "evaluate_model(linear_reg_model, X_test, y_test)\n",
    "\n",
    "# Evaluate Decision Tree Model\n",
    "print(\"\\nDecision Tree Model Evaluation:\")\n",
    "evaluate_model(decision_tree_model, X_test, y_test)\n",
    "\n",
    "# Evaluate Random Forest Model\n",
    "print(\"\\nRandom Forest Model Evaluation:\")\n",
    "evaluate_model(random_forest_model, X_test, y_test)\n"
   ]
  },
  {
   "cell_type": "markdown",
   "id": "2b75c92e",
   "metadata": {},
   "source": [
    "# Prediction"
   ]
  },
  {
   "cell_type": "code",
   "execution_count": null,
   "id": "feb42f2a",
   "metadata": {},
   "outputs": [],
   "source": [
    "# Assuming you have new data in a DataFrame called 'new_data'\n",
    "# Ensure that 'new_data' has the same structure (features) as your training data\n",
    "\n",
    "# Use the trained Random Forest model to make predictions\n",
    "new_data_predictions = random_forest_model.predict(new_data)\n",
    "\n",
    "# Display the predictions\n",
    "print(\"Predictions for New Data:\")\n",
    "print(new_data_predictions)\n"
   ]
  }
 ],
 "metadata": {
  "kernelspec": {
   "display_name": "Python 3 (ipykernel)",
   "language": "python",
   "name": "python3"
  },
  "language_info": {
   "codemirror_mode": {
    "name": "ipython",
    "version": 3
   },
   "file_extension": ".py",
   "mimetype": "text/x-python",
   "name": "python",
   "nbconvert_exporter": "python",
   "pygments_lexer": "ipython3",
   "version": "3.10.9"
  }
 },
 "nbformat": 4,
 "nbformat_minor": 5
}
