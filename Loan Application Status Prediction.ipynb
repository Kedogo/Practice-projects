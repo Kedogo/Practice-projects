{
 "cells": [
  {
   "cell_type": "code",
   "execution_count": null,
   "id": "d83fcb2a",
   "metadata": {},
   "outputs": [],
   "source": [
    "# Import necessary libraries\n",
    "import pandas as pd\n",
    "from sklearn.model_selection import train_test_split\n",
    "from sklearn.preprocessing import StandardScaler\n",
    "from sklearn.ensemble import RandomForestClassifier\n",
    "from sklearn.metrics import accuracy_score, classification_report\n"
   ]
  },
  {
   "cell_type": "code",
   "execution_count": null,
   "id": "4062fdbc",
   "metadata": {},
   "outputs": [],
   "source": [
    "# Load the dataset\n",
    "url = \"https://raw.githubusercontent.com/dsrscientist/DSData/master/loan_prediction.csv\"\n",
    "df = pd.read_csv(url)"
   ]
  },
  {
   "cell_type": "code",
   "execution_count": null,
   "id": "0268bbfe",
   "metadata": {},
   "outputs": [],
   "source": [
    "# Data Preprocessing\n",
    "# Handle missing values, convert categorical variables, normalize numerical features, etc."
   ]
  },
  {
   "cell_type": "code",
   "execution_count": null,
   "id": "f7441209",
   "metadata": {},
   "outputs": [],
   "source": [
    "# Feature selection\n",
    "features = ['Gender', 'Married', 'Dependents', 'Education', 'Self_Employed',\n",
    "            'ApplicantIncome', 'CoapplicantIncome', 'LoanAmount',\n",
    "            'Loan_Amount_Term', 'Credit_History', 'Property_Area']"
   ]
  },
  {
   "cell_type": "code",
   "execution_count": null,
   "id": "42bef8ab",
   "metadata": {},
   "outputs": [],
   "source": [
    "X = df[features]\n",
    "y = df['Loan_Status']\n"
   ]
  },
  {
   "cell_type": "code",
   "execution_count": null,
   "id": "334831a3",
   "metadata": {},
   "outputs": [],
   "source": [
    "# Convert categorical variables to numerical using one-hot encoding\n",
    "X = pd.get_dummies(X)\n"
   ]
  },
  {
   "cell_type": "code",
   "execution_count": null,
   "id": "d0397bd1",
   "metadata": {},
   "outputs": [],
   "source": [
    "# Split the data into training and testing sets\n",
    "X_train, X_test, y_train, y_test = train_test_split(X, y, test_size=0.2, random_state=42)\n"
   ]
  },
  {
   "cell_type": "code",
   "execution_count": null,
   "id": "3b4945d2",
   "metadata": {},
   "outputs": [],
   "source": [
    "# Normalize numerical features (optional)\n",
    "scaler = StandardScaler()\n",
    "X_train = scaler.fit_transform(X_train)\n",
    "X_test = scaler.transform(X_test)"
   ]
  },
  {
   "cell_type": "code",
   "execution_count": null,
   "id": "45b61cd9",
   "metadata": {},
   "outputs": [],
   "source": [
    "# Choose a model (Random Forest in this example)\n",
    "model = RandomForestClassifier(random_state=42)"
   ]
  },
  {
   "cell_type": "code",
   "execution_count": null,
   "id": "afdc070d",
   "metadata": {},
   "outputs": [],
   "source": [
    "# Train the model\n",
    "model.fit(X_train, y_train)"
   ]
  },
  {
   "cell_type": "code",
   "execution_count": null,
   "id": "3e7754af",
   "metadata": {},
   "outputs": [],
   "source": [
    "# Make predictions\n",
    "y_pred = model.predict(X_test)"
   ]
  },
  {
   "cell_type": "code",
   "execution_count": null,
   "id": "8a4870dc",
   "metadata": {},
   "outputs": [],
   "source": [
    "# Evaluate the model\n",
    "accuracy = accuracy_score(y_test, y_pred)\n",
    "print(f\"Accuracy: {accuracy:.2f}\")"
   ]
  },
  {
   "cell_type": "code",
   "execution_count": null,
   "id": "8a9d36b2",
   "metadata": {},
   "outputs": [],
   "source": [
    "# Additional evaluation metrics\n",
    "print(classification_report(y_test, y_pred))"
   ]
  }
 ],
 "metadata": {
  "kernelspec": {
   "display_name": "Python 3 (ipykernel)",
   "language": "python",
   "name": "python3"
  },
  "language_info": {
   "codemirror_mode": {
    "name": "ipython",
    "version": 3
   },
   "file_extension": ".py",
   "mimetype": "text/x-python",
   "name": "python",
   "nbconvert_exporter": "python",
   "pygments_lexer": "ipython3",
   "version": "3.10.9"
  }
 },
 "nbformat": 4,
 "nbformat_minor": 5
}
